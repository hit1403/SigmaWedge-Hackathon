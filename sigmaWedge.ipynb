{
  "cells": [
    {
      "cell_type": "code",
      "execution_count": null,
      "id": "44d40732-bf68-409d-9cfa-24242013013b",
      "metadata": {
        "tags": [],
        "id": "44d40732-bf68-409d-9cfa-24242013013b",
        "outputId": "34ffe253-6ba1-474d-c059-819f5175823f"
      },
      "outputs": [
        {
          "data": {
            "text/plain": [
              "{'licensekey': '876a........08d3', 'software_license': {}}"
            ]
          },
          "execution_count": 1,
          "metadata": {},
          "output_type": "execute_result"
        }
      ],
      "source": [
        "from quantrocket.license import set_license\n",
        "set_license(\"876a241b-dfa4-11ee-bbcf-e352491c08d3\")"
      ]
    },
    {
      "cell_type": "code",
      "execution_count": null,
      "id": "55b14c73-c100-495e-adda-f0ceb4e81ba4",
      "metadata": {
        "tags": [],
        "id": "55b14c73-c100-495e-adda-f0ceb4e81ba4"
      },
      "outputs": [],
      "source": [
        "\n",
        "from quantrocket.history import create_usstock_db\n",
        "create_usstock_db(\"usstock-free-1d\", bar_size=\"1 day\", free=True)\n"
      ]
    },
    {
      "cell_type": "code",
      "execution_count": null,
      "id": "140cb910-43e4-4e38-8ba0-929e178c13b7",
      "metadata": {
        "tags": [],
        "id": "140cb910-43e4-4e38-8ba0-929e178c13b7",
        "outputId": "b8a43a15-2d2b-45a0-9c19-55cbe62eae28"
      },
      "outputs": [
        {
          "data": {
            "text/plain": [
              "{'status': 'the historical data will be collected asynchronously'}"
            ]
          },
          "execution_count": 3,
          "metadata": {},
          "output_type": "execute_result"
        }
      ],
      "source": [
        "from quantrocket.history import collect_history\n",
        "collect_history(\"usstock-free-1d\")"
      ]
    },
    {
      "cell_type": "code",
      "execution_count": null,
      "id": "10224c52-713e-4957-9678-9bd6b027eb88",
      "metadata": {
        "tags": [],
        "id": "10224c52-713e-4957-9678-9bd6b027eb88",
        "outputId": "60a591da-0dbe-4fec-9894-5d606d5ff30c"
      },
      "outputs": [
        {
          "data": {
            "text/html": [
              "<div>\n",
              "<style scoped>\n",
              "    .dataframe tbody tr th:only-of-type {\n",
              "        vertical-align: middle;\n",
              "    }\n",
              "\n",
              "    .dataframe tbody tr th {\n",
              "        vertical-align: top;\n",
              "    }\n",
              "\n",
              "    .dataframe thead th {\n",
              "        text-align: right;\n",
              "    }\n",
              "</style>\n",
              "<table border=\"1\" class=\"dataframe\">\n",
              "  <thead>\n",
              "    <tr style=\"text-align: right;\">\n",
              "      <th></th>\n",
              "      <th>Symbol</th>\n",
              "      <th>Exchange</th>\n",
              "      <th>Country</th>\n",
              "      <th>Currency</th>\n",
              "      <th>SecType</th>\n",
              "      <th>Etf</th>\n",
              "      <th>Timezone</th>\n",
              "      <th>Name</th>\n",
              "      <th>PriceMagnifier</th>\n",
              "      <th>Multiplier</th>\n",
              "      <th>Delisted</th>\n",
              "      <th>DateDelisted</th>\n",
              "      <th>LastTradeDate</th>\n",
              "      <th>RolloverDate</th>\n",
              "    </tr>\n",
              "    <tr>\n",
              "      <th>Sid</th>\n",
              "      <th></th>\n",
              "      <th></th>\n",
              "      <th></th>\n",
              "      <th></th>\n",
              "      <th></th>\n",
              "      <th></th>\n",
              "      <th></th>\n",
              "      <th></th>\n",
              "      <th></th>\n",
              "      <th></th>\n",
              "      <th></th>\n",
              "      <th></th>\n",
              "      <th></th>\n",
              "      <th></th>\n",
              "    </tr>\n",
              "  </thead>\n",
              "  <tbody>\n",
              "    <tr>\n",
              "      <th>FIBBG000B9XRY4</th>\n",
              "      <td>AAPL</td>\n",
              "      <td>XNAS</td>\n",
              "      <td>US</td>\n",
              "      <td>USD</td>\n",
              "      <td>STK</td>\n",
              "      <td>False</td>\n",
              "      <td>America/New_York</td>\n",
              "      <td>APPLE INC</td>\n",
              "      <td>1</td>\n",
              "      <td>1</td>\n",
              "      <td>False</td>\n",
              "      <td>NaT</td>\n",
              "      <td>NaT</td>\n",
              "      <td>NaT</td>\n",
              "    </tr>\n",
              "    <tr>\n",
              "      <th>FIBBG000BFWKC0</th>\n",
              "      <td>MON</td>\n",
              "      <td>XNYS</td>\n",
              "      <td>US</td>\n",
              "      <td>USD</td>\n",
              "      <td>STK</td>\n",
              "      <td>False</td>\n",
              "      <td>America/New_York</td>\n",
              "      <td>MONSANTO CO</td>\n",
              "      <td>1</td>\n",
              "      <td>1</td>\n",
              "      <td>True</td>\n",
              "      <td>2018-06-06</td>\n",
              "      <td>NaT</td>\n",
              "      <td>NaT</td>\n",
              "    </tr>\n",
              "    <tr>\n",
              "      <th>FIBBG000BKZB36</th>\n",
              "      <td>HD</td>\n",
              "      <td>XNYS</td>\n",
              "      <td>US</td>\n",
              "      <td>USD</td>\n",
              "      <td>STK</td>\n",
              "      <td>False</td>\n",
              "      <td>America/New_York</td>\n",
              "      <td>HOME DEPOT INC</td>\n",
              "      <td>1</td>\n",
              "      <td>1</td>\n",
              "      <td>False</td>\n",
              "      <td>NaT</td>\n",
              "      <td>NaT</td>\n",
              "      <td>NaT</td>\n",
              "    </tr>\n",
              "    <tr>\n",
              "      <th>FIBBG000BMHYD1</th>\n",
              "      <td>JNJ</td>\n",
              "      <td>XNYS</td>\n",
              "      <td>US</td>\n",
              "      <td>USD</td>\n",
              "      <td>STK</td>\n",
              "      <td>False</td>\n",
              "      <td>America/New_York</td>\n",
              "      <td>JOHNSON &amp; JOHNSON</td>\n",
              "      <td>1</td>\n",
              "      <td>1</td>\n",
              "      <td>False</td>\n",
              "      <td>NaT</td>\n",
              "      <td>NaT</td>\n",
              "      <td>NaT</td>\n",
              "    </tr>\n",
              "    <tr>\n",
              "      <th>FIBBG000BPH459</th>\n",
              "      <td>MSFT</td>\n",
              "      <td>XNAS</td>\n",
              "      <td>US</td>\n",
              "      <td>USD</td>\n",
              "      <td>STK</td>\n",
              "      <td>False</td>\n",
              "      <td>America/New_York</td>\n",
              "      <td>MICROSOFT CORP</td>\n",
              "      <td>1</td>\n",
              "      <td>1</td>\n",
              "      <td>False</td>\n",
              "      <td>NaT</td>\n",
              "      <td>NaT</td>\n",
              "      <td>NaT</td>\n",
              "    </tr>\n",
              "  </tbody>\n",
              "</table>\n",
              "</div>"
            ],
            "text/plain": [
              "               Symbol Exchange Country Currency SecType    Etf  \\\n",
              "Sid                                                              \n",
              "FIBBG000B9XRY4   AAPL     XNAS      US      USD     STK  False   \n",
              "FIBBG000BFWKC0    MON     XNYS      US      USD     STK  False   \n",
              "FIBBG000BKZB36     HD     XNYS      US      USD     STK  False   \n",
              "FIBBG000BMHYD1    JNJ     XNYS      US      USD     STK  False   \n",
              "FIBBG000BPH459   MSFT     XNAS      US      USD     STK  False   \n",
              "\n",
              "                        Timezone               Name  PriceMagnifier  \\\n",
              "Sid                                                                   \n",
              "FIBBG000B9XRY4  America/New_York          APPLE INC               1   \n",
              "FIBBG000BFWKC0  America/New_York        MONSANTO CO               1   \n",
              "FIBBG000BKZB36  America/New_York     HOME DEPOT INC               1   \n",
              "FIBBG000BMHYD1  America/New_York  JOHNSON & JOHNSON               1   \n",
              "FIBBG000BPH459  America/New_York     MICROSOFT CORP               1   \n",
              "\n",
              "                Multiplier  Delisted DateDelisted LastTradeDate RolloverDate  \n",
              "Sid                                                                           \n",
              "FIBBG000B9XRY4           1     False          NaT           NaT          NaT  \n",
              "FIBBG000BFWKC0           1      True   2018-06-06           NaT          NaT  \n",
              "FIBBG000BKZB36           1     False          NaT           NaT          NaT  \n",
              "FIBBG000BMHYD1           1     False          NaT           NaT          NaT  \n",
              "FIBBG000BPH459           1     False          NaT           NaT          NaT  "
            ]
          },
          "execution_count": 4,
          "metadata": {},
          "output_type": "execute_result"
        }
      ],
      "source": [
        "from quantrocket.master import get_securities\n",
        "# by specifying sec_types='STK', we exclude ETFs, which are present in the sample data\n",
        "securities = get_securities(vendors=\"usstock\", sec_types=\"STK\")\n",
        "securities.head()"
      ]
    },
    {
      "cell_type": "code",
      "execution_count": null,
      "id": "51c379e1-4108-4653-9f84-cd0b9b699864",
      "metadata": {
        "tags": [],
        "id": "51c379e1-4108-4653-9f84-cd0b9b699864",
        "outputId": "415e56a8-590e-4f73-abf6-9ef0626097c0"
      },
      "outputs": [
        {
          "data": {
            "text/plain": [
              "{'code': 'usstock-free', 'provided': 8, 'inserted': 8, 'total_after_insert': 8}"
            ]
          },
          "execution_count": 5,
          "metadata": {},
          "output_type": "execute_result"
        }
      ],
      "source": [
        "from quantrocket.master import create_universe\n",
        "#create_universe(\"usstock-free\", sids=securities.index.tolist())\n",
        "\n",
        "replace_or_append = \"replace\"  # or \"append\"\n",
        "\n",
        "create_universe(\"usstock-free\", sids=securities.index.tolist(), replace=True)"
      ]
    },
    {
      "cell_type": "markdown",
      "id": "592c0b9c-9092-4fe9-93d8-5b6b9370707b",
      "metadata": {
        "id": "592c0b9c-9092-4fe9-93d8-5b6b9370707b"
      },
      "source": [
        "## Filtering the apple stocks only"
      ]
    },
    {
      "cell_type": "code",
      "execution_count": null,
      "id": "a6def09f-c85f-4814-a1a1-7269a229960d",
      "metadata": {
        "tags": [],
        "id": "a6def09f-c85f-4814-a1a1-7269a229960d",
        "outputId": "190c4bb3-f64d-4973-cb44-5971530e2258"
      },
      "outputs": [
        {
          "data": {
            "text/html": [
              "<div>\n",
              "<style scoped>\n",
              "    .dataframe tbody tr th:only-of-type {\n",
              "        vertical-align: middle;\n",
              "    }\n",
              "\n",
              "    .dataframe tbody tr th {\n",
              "        vertical-align: top;\n",
              "    }\n",
              "\n",
              "    .dataframe thead th {\n",
              "        text-align: right;\n",
              "    }\n",
              "</style>\n",
              "<table border=\"1\" class=\"dataframe\">\n",
              "  <thead>\n",
              "    <tr style=\"text-align: right;\">\n",
              "      <th></th>\n",
              "      <th>Symbol</th>\n",
              "      <th>Exchange</th>\n",
              "      <th>Name</th>\n",
              "      <th>Delisted</th>\n",
              "    </tr>\n",
              "    <tr>\n",
              "      <th>Sid</th>\n",
              "      <th></th>\n",
              "      <th></th>\n",
              "      <th></th>\n",
              "      <th></th>\n",
              "    </tr>\n",
              "  </thead>\n",
              "  <tbody>\n",
              "    <tr>\n",
              "      <th>FIBBG000B9XRY4</th>\n",
              "      <td>AAPL</td>\n",
              "      <td>XNAS</td>\n",
              "      <td>APPLE INC</td>\n",
              "      <td>False</td>\n",
              "    </tr>\n",
              "  </tbody>\n",
              "</table>\n",
              "</div>"
            ],
            "text/plain": [
              "               Symbol Exchange       Name  Delisted\n",
              "Sid                                                \n",
              "FIBBG000B9XRY4   AAPL     XNAS  APPLE INC     False"
            ]
          },
          "execution_count": 6,
          "metadata": {},
          "output_type": "execute_result"
        }
      ],
      "source": [
        "filtered_securities = securities[securities.Symbol==\"AAPL\"]\n",
        "# also limit the number of columns for readability\n",
        "filtered_securities = filtered_securities[[\"Symbol\", \"Exchange\", \"Name\", \"Delisted\"]]\n",
        "filtered_securities.head()"
      ]
    },
    {
      "cell_type": "code",
      "execution_count": null,
      "id": "0fa21daf-e038-4276-bab2-cddf2b9cc6ff",
      "metadata": {
        "tags": [],
        "id": "0fa21daf-e038-4276-bab2-cddf2b9cc6ff"
      },
      "outputs": [],
      "source": [
        "create_universe(\"usstock-free-active\", sids=filtered_securities.index.tolist())"
      ]
    },
    {
      "cell_type": "markdown",
      "id": "78f84f48-3e95-464a-bc20-0ed4d63170ac",
      "metadata": {
        "id": "78f84f48-3e95-464a-bc20-0ed4d63170ac"
      },
      "source": [
        "## Getting the stock prices for the year 2023"
      ]
    },
    {
      "cell_type": "code",
      "execution_count": null,
      "id": "735aff0d-9c34-48ba-a552-a5f0b18028e2",
      "metadata": {
        "tags": [],
        "id": "735aff0d-9c34-48ba-a552-a5f0b18028e2",
        "outputId": "3ccde283-7196-4dd3-d4d3-99b3f1ba4067"
      },
      "outputs": [
        {
          "data": {
            "text/html": [
              "<div>\n",
              "<style scoped>\n",
              "    .dataframe tbody tr th:only-of-type {\n",
              "        vertical-align: middle;\n",
              "    }\n",
              "\n",
              "    .dataframe tbody tr th {\n",
              "        vertical-align: top;\n",
              "    }\n",
              "\n",
              "    .dataframe thead th {\n",
              "        text-align: right;\n",
              "    }\n",
              "</style>\n",
              "<table border=\"1\" class=\"dataframe\">\n",
              "  <thead>\n",
              "    <tr style=\"text-align: right;\">\n",
              "      <th></th>\n",
              "      <th>Sid</th>\n",
              "      <th>FIBBG000B9XRY4</th>\n",
              "    </tr>\n",
              "    <tr>\n",
              "      <th>Field</th>\n",
              "      <th>Date</th>\n",
              "      <th></th>\n",
              "    </tr>\n",
              "  </thead>\n",
              "  <tbody>\n",
              "    <tr>\n",
              "      <th rowspan=\"10\" valign=\"top\">Close</th>\n",
              "      <th>2023-01-03</th>\n",
              "      <td>124.2163</td>\n",
              "    </tr>\n",
              "    <tr>\n",
              "      <th>2023-01-04</th>\n",
              "      <td>125.4975</td>\n",
              "    </tr>\n",
              "    <tr>\n",
              "      <th>2023-01-05</th>\n",
              "      <td>124.1666</td>\n",
              "    </tr>\n",
              "    <tr>\n",
              "      <th>2023-01-06</th>\n",
              "      <td>128.7352</td>\n",
              "    </tr>\n",
              "    <tr>\n",
              "      <th>2023-01-09</th>\n",
              "      <td>129.2616</td>\n",
              "    </tr>\n",
              "    <tr>\n",
              "      <th>2023-01-10</th>\n",
              "      <td>129.8377</td>\n",
              "    </tr>\n",
              "    <tr>\n",
              "      <th>2023-01-11</th>\n",
              "      <td>132.5788</td>\n",
              "    </tr>\n",
              "    <tr>\n",
              "      <th>2023-01-12</th>\n",
              "      <td>132.4994</td>\n",
              "    </tr>\n",
              "    <tr>\n",
              "      <th>2023-01-13</th>\n",
              "      <td>133.8402</td>\n",
              "    </tr>\n",
              "    <tr>\n",
              "      <th>2023-01-17</th>\n",
              "      <td>135.0121</td>\n",
              "    </tr>\n",
              "  </tbody>\n",
              "</table>\n",
              "</div>"
            ],
            "text/plain": [
              "Sid               FIBBG000B9XRY4\n",
              "Field Date                      \n",
              "Close 2023-01-03        124.2163\n",
              "      2023-01-04        125.4975\n",
              "      2023-01-05        124.1666\n",
              "      2023-01-06        128.7352\n",
              "      2023-01-09        129.2616\n",
              "      2023-01-10        129.8377\n",
              "      2023-01-11        132.5788\n",
              "      2023-01-12        132.4994\n",
              "      2023-01-13        133.8402\n",
              "      2023-01-17        135.0121"
            ]
          },
          "execution_count": 8,
          "metadata": {},
          "output_type": "execute_result"
        }
      ],
      "source": [
        "from quantrocket import get_prices\n",
        "prices = get_prices(\"usstock-free-1d\", universes=\"usstock-free-active\", start_date=\"2023-01-01\",end_date=\"2023-12-31\" ,fields=[\"Close\"])\n",
        "#displaying first 10 records\n",
        "prices.head(10)"
      ]
    },
    {
      "cell_type": "code",
      "execution_count": null,
      "id": "757e7d3a-56af-4970-9363-1147061cdb73",
      "metadata": {
        "tags": [],
        "id": "757e7d3a-56af-4970-9363-1147061cdb73"
      },
      "outputs": [],
      "source": [
        "import pandas as pd"
      ]
    },
    {
      "cell_type": "code",
      "execution_count": null,
      "id": "4cb3956a-6936-4f4a-abec-ff610748b5ad",
      "metadata": {
        "tags": [],
        "id": "4cb3956a-6936-4f4a-abec-ff610748b5ad"
      },
      "outputs": [],
      "source": [
        "df = pd.read_csv(\"appleStock.csv\",parse_dates=True)\n",
        "df.set_index('Date', inplace=True)\n",
        "df = df.drop([\"Field\"],axis=\"columns\")"
      ]
    },
    {
      "cell_type": "code",
      "execution_count": null,
      "id": "47d17f91-efcc-49aa-81ea-c0d8efb46420",
      "metadata": {
        "tags": [],
        "id": "47d17f91-efcc-49aa-81ea-c0d8efb46420",
        "outputId": "bbc46859-4fae-459f-be75-2eda1a3f6c61"
      },
      "outputs": [
        {
          "data": {
            "text/html": [
              "<div>\n",
              "<style scoped>\n",
              "    .dataframe tbody tr th:only-of-type {\n",
              "        vertical-align: middle;\n",
              "    }\n",
              "\n",
              "    .dataframe tbody tr th {\n",
              "        vertical-align: top;\n",
              "    }\n",
              "\n",
              "    .dataframe thead th {\n",
              "        text-align: right;\n",
              "    }\n",
              "</style>\n",
              "<table border=\"1\" class=\"dataframe\">\n",
              "  <thead>\n",
              "    <tr style=\"text-align: right;\">\n",
              "      <th></th>\n",
              "      <th>Close Price</th>\n",
              "    </tr>\n",
              "    <tr>\n",
              "      <th>Date</th>\n",
              "      <th></th>\n",
              "    </tr>\n",
              "  </thead>\n",
              "  <tbody>\n",
              "    <tr>\n",
              "      <th>2023-01-03</th>\n",
              "      <td>124.2163</td>\n",
              "    </tr>\n",
              "    <tr>\n",
              "      <th>2023-01-04</th>\n",
              "      <td>125.4975</td>\n",
              "    </tr>\n",
              "    <tr>\n",
              "      <th>2023-01-05</th>\n",
              "      <td>124.1666</td>\n",
              "    </tr>\n",
              "  </tbody>\n",
              "</table>\n",
              "</div>"
            ],
            "text/plain": [
              "            Close Price\n",
              "Date                   \n",
              "2023-01-03     124.2163\n",
              "2023-01-04     125.4975\n",
              "2023-01-05     124.1666"
            ]
          },
          "execution_count": 11,
          "metadata": {},
          "output_type": "execute_result"
        }
      ],
      "source": [
        "df.rename(columns={'FIBBG000B9XRY4': 'Close Price'}, inplace=True)\n",
        "df.head(3)"
      ]
    },
    {
      "cell_type": "code",
      "execution_count": null,
      "id": "0c85156c-1aa9-4ec3-83f3-c7402052221e",
      "metadata": {
        "tags": [],
        "id": "0c85156c-1aa9-4ec3-83f3-c7402052221e",
        "outputId": "2146d113-6e1b-4699-fe82-76e1c93dd7e1"
      },
      "outputs": [
        {
          "data": {
            "text/html": [
              "<div>\n",
              "<style scoped>\n",
              "    .dataframe tbody tr th:only-of-type {\n",
              "        vertical-align: middle;\n",
              "    }\n",
              "\n",
              "    .dataframe tbody tr th {\n",
              "        vertical-align: top;\n",
              "    }\n",
              "\n",
              "    .dataframe thead th {\n",
              "        text-align: right;\n",
              "    }\n",
              "</style>\n",
              "<table border=\"1\" class=\"dataframe\">\n",
              "  <thead>\n",
              "    <tr style=\"text-align: right;\">\n",
              "      <th></th>\n",
              "      <th>Close Price</th>\n",
              "      <th>Returns</th>\n",
              "      <th>State</th>\n",
              "    </tr>\n",
              "    <tr>\n",
              "      <th>Date</th>\n",
              "      <th></th>\n",
              "      <th></th>\n",
              "      <th></th>\n",
              "    </tr>\n",
              "  </thead>\n",
              "  <tbody>\n",
              "    <tr>\n",
              "      <th>2023-01-03</th>\n",
              "      <td>124.2163</td>\n",
              "      <td>0.010314</td>\n",
              "      <td>1</td>\n",
              "    </tr>\n",
              "    <tr>\n",
              "      <th>2023-01-04</th>\n",
              "      <td>125.4975</td>\n",
              "      <td>0.010314</td>\n",
              "      <td>1</td>\n",
              "    </tr>\n",
              "    <tr>\n",
              "      <th>2023-01-05</th>\n",
              "      <td>124.1666</td>\n",
              "      <td>-0.010605</td>\n",
              "      <td>-1</td>\n",
              "    </tr>\n",
              "  </tbody>\n",
              "</table>\n",
              "</div>"
            ],
            "text/plain": [
              "            Close Price   Returns  State\n",
              "Date                                    \n",
              "2023-01-03     124.2163  0.010314      1\n",
              "2023-01-04     125.4975  0.010314      1\n",
              "2023-01-05     124.1666 -0.010605     -1"
            ]
          },
          "execution_count": 12,
          "metadata": {},
          "output_type": "execute_result"
        }
      ],
      "source": [
        "df['Returns'] = df['Close Price'].pct_change()\n",
        "df['Returns'] = df['Returns'].bfill()\n",
        "\n",
        "\n",
        "def classify_state(returns):\n",
        "    if returns >= 0.01:\n",
        "        return 1\n",
        "    elif returns > -0.01:\n",
        "        return 0\n",
        "    else:\n",
        "        return -1\n",
        "\n",
        "df['State'] = df['Returns'].apply(classify_state)\n",
        "df.head(3)"
      ]
    },
    {
      "cell_type": "code",
      "execution_count": null,
      "id": "09150885-5b74-43cb-8cdf-637623276fca",
      "metadata": {
        "tags": [],
        "id": "09150885-5b74-43cb-8cdf-637623276fca",
        "outputId": "2c0aa3ab-96d1-4542-abf3-8d6fede5ae45"
      },
      "outputs": [
        {
          "name": "stdout",
          "output_type": "stream",
          "text": [
            "row:  250\n",
            "col:  3\n"
          ]
        }
      ],
      "source": [
        "row,col = df.shape\n",
        "print(\"row: \",row)\n",
        "print(\"col: \",col)\n",
        "df[\"Portfolio value\"] = 0"
      ]
    },
    {
      "cell_type": "markdown",
      "id": "fecb0c6e-c889-4c65-b4ed-befc0d689de6",
      "metadata": {
        "id": "fecb0c6e-c889-4c65-b4ed-befc0d689de6"
      },
      "source": [
        "### To maximise the portfolio value, we place buy order on day (d+1) if :\n",
        "###      It has flat state on that day (d) and bull state on the day (d+1)"
      ]
    },
    {
      "cell_type": "code",
      "execution_count": null,
      "id": "20505140-e056-4e9f-973d-d04b93e0f622",
      "metadata": {
        "tags": [],
        "id": "20505140-e056-4e9f-973d-d04b93e0f622"
      },
      "outputs": [],
      "source": [
        "optimal_indices = {}\n",
        "for i in range(0, row-1):\n",
        "    if df.iloc[i, df.columns.get_loc(\"State\")] == 0 and df.iloc[i+1, df.columns.get_loc(\"State\")] == 1:\n",
        "        df.iloc[i+1, df.columns.get_loc(\"Portfolio value\")] = df.iloc[i, df.columns.get_loc(\"Portfolio value\")] + 1\n",
        "        optimal_indices[df.index[i+1]] = df[\"Portfolio value\"][i+1]\n",
        "    else:\n",
        "        df.iloc[i+1, df.columns.get_loc(\"Portfolio value\")] = df.iloc[i, df.columns.get_loc(\"Portfolio value\")]\n"
      ]
    },
    {
      "cell_type": "code",
      "execution_count": null,
      "id": "bd51e83d-a781-4d43-8285-e0a0522e5de9",
      "metadata": {
        "id": "bd51e83d-a781-4d43-8285-e0a0522e5de9"
      },
      "outputs": [],
      "source": [
        "pd.set_option('display.max_rows',251)"
      ]
    },
    {
      "cell_type": "code",
      "execution_count": null,
      "id": "1c631d47-ec91-47ba-936c-687ab921b2b0",
      "metadata": {
        "tags": [],
        "id": "1c631d47-ec91-47ba-936c-687ab921b2b0",
        "outputId": "d886d378-9bfc-45d8-b266-5e85793aa95c"
      },
      "outputs": [
        {
          "data": {
            "text/html": [
              "<div>\n",
              "<style scoped>\n",
              "    .dataframe tbody tr th:only-of-type {\n",
              "        vertical-align: middle;\n",
              "    }\n",
              "\n",
              "    .dataframe tbody tr th {\n",
              "        vertical-align: top;\n",
              "    }\n",
              "\n",
              "    .dataframe thead th {\n",
              "        text-align: right;\n",
              "    }\n",
              "</style>\n",
              "<table border=\"1\" class=\"dataframe\">\n",
              "  <thead>\n",
              "    <tr style=\"text-align: right;\">\n",
              "      <th></th>\n",
              "      <th>Close Price</th>\n",
              "      <th>Returns</th>\n",
              "      <th>State</th>\n",
              "      <th>Portfolio value</th>\n",
              "    </tr>\n",
              "    <tr>\n",
              "      <th>Date</th>\n",
              "      <th></th>\n",
              "      <th></th>\n",
              "      <th></th>\n",
              "      <th></th>\n",
              "    </tr>\n",
              "  </thead>\n",
              "  <tbody>\n",
              "    <tr>\n",
              "      <th>2023-01-03</th>\n",
              "      <td>124.2163</td>\n",
              "      <td>0.010314</td>\n",
              "      <td>1</td>\n",
              "      <td>0</td>\n",
              "    </tr>\n",
              "    <tr>\n",
              "      <th>2023-01-04</th>\n",
              "      <td>125.4975</td>\n",
              "      <td>0.010314</td>\n",
              "      <td>1</td>\n",
              "      <td>0</td>\n",
              "    </tr>\n",
              "    <tr>\n",
              "      <th>2023-01-05</th>\n",
              "      <td>124.1666</td>\n",
              "      <td>-0.010605</td>\n",
              "      <td>-1</td>\n",
              "      <td>0</td>\n",
              "    </tr>\n",
              "    <tr>\n",
              "      <th>2023-01-06</th>\n",
              "      <td>128.7352</td>\n",
              "      <td>0.036794</td>\n",
              "      <td>1</td>\n",
              "      <td>0</td>\n",
              "    </tr>\n",
              "    <tr>\n",
              "      <th>2023-01-09</th>\n",
              "      <td>129.2616</td>\n",
              "      <td>0.004089</td>\n",
              "      <td>0</td>\n",
              "      <td>0</td>\n",
              "    </tr>\n",
              "    <tr>\n",
              "      <th>2023-01-10</th>\n",
              "      <td>129.8377</td>\n",
              "      <td>0.004457</td>\n",
              "      <td>0</td>\n",
              "      <td>0</td>\n",
              "    </tr>\n",
              "    <tr>\n",
              "      <th>2023-01-11</th>\n",
              "      <td>132.5788</td>\n",
              "      <td>0.021112</td>\n",
              "      <td>1</td>\n",
              "      <td>1</td>\n",
              "    </tr>\n",
              "    <tr>\n",
              "      <th>2023-01-12</th>\n",
              "      <td>132.4994</td>\n",
              "      <td>-0.000599</td>\n",
              "      <td>0</td>\n",
              "      <td>1</td>\n",
              "    </tr>\n",
              "    <tr>\n",
              "      <th>2023-01-13</th>\n",
              "      <td>133.8402</td>\n",
              "      <td>0.010119</td>\n",
              "      <td>1</td>\n",
              "      <td>2</td>\n",
              "    </tr>\n",
              "    <tr>\n",
              "      <th>2023-01-17</th>\n",
              "      <td>135.0121</td>\n",
              "      <td>0.008756</td>\n",
              "      <td>0</td>\n",
              "      <td>2</td>\n",
              "    </tr>\n",
              "    <tr>\n",
              "      <th>2023-01-18</th>\n",
              "      <td>134.2871</td>\n",
              "      <td>-0.005370</td>\n",
              "      <td>0</td>\n",
              "      <td>2</td>\n",
              "    </tr>\n",
              "    <tr>\n",
              "      <th>2023-01-19</th>\n",
              "      <td>134.3467</td>\n",
              "      <td>0.000444</td>\n",
              "      <td>0</td>\n",
              "      <td>2</td>\n",
              "    </tr>\n",
              "    <tr>\n",
              "      <th>2023-01-20</th>\n",
              "      <td>136.9289</td>\n",
              "      <td>0.019220</td>\n",
              "      <td>1</td>\n",
              "      <td>3</td>\n",
              "    </tr>\n",
              "    <tr>\n",
              "      <th>2023-01-23</th>\n",
              "      <td>140.1468</td>\n",
              "      <td>0.023501</td>\n",
              "      <td>1</td>\n",
              "      <td>3</td>\n",
              "    </tr>\n",
              "    <tr>\n",
              "      <th>2023-01-24</th>\n",
              "      <td>141.5571</td>\n",
              "      <td>0.010063</td>\n",
              "      <td>1</td>\n",
              "      <td>3</td>\n",
              "    </tr>\n",
              "    <tr>\n",
              "      <th>2023-01-25</th>\n",
              "      <td>140.8917</td>\n",
              "      <td>-0.004701</td>\n",
              "      <td>0</td>\n",
              "      <td>3</td>\n",
              "    </tr>\n",
              "    <tr>\n",
              "      <th>2023-01-26</th>\n",
              "      <td>142.9774</td>\n",
              "      <td>0.014804</td>\n",
              "      <td>1</td>\n",
              "      <td>4</td>\n",
              "    </tr>\n",
              "    <tr>\n",
              "      <th>2023-01-27</th>\n",
              "      <td>144.9339</td>\n",
              "      <td>0.013684</td>\n",
              "      <td>1</td>\n",
              "      <td>4</td>\n",
              "    </tr>\n",
              "    <tr>\n",
              "      <th>2023-01-30</th>\n",
              "      <td>142.0239</td>\n",
              "      <td>-0.020078</td>\n",
              "      <td>-1</td>\n",
              "      <td>4</td>\n",
              "    </tr>\n",
              "    <tr>\n",
              "      <th>2023-01-31</th>\n",
              "      <td>143.3051</td>\n",
              "      <td>0.009021</td>\n",
              "      <td>0</td>\n",
              "      <td>4</td>\n",
              "    </tr>\n",
              "  </tbody>\n",
              "</table>\n",
              "</div>"
            ],
            "text/plain": [
              "            Close Price   Returns  State  Portfolio value\n",
              "Date                                                     \n",
              "2023-01-03     124.2163  0.010314      1                0\n",
              "2023-01-04     125.4975  0.010314      1                0\n",
              "2023-01-05     124.1666 -0.010605     -1                0\n",
              "2023-01-06     128.7352  0.036794      1                0\n",
              "2023-01-09     129.2616  0.004089      0                0\n",
              "2023-01-10     129.8377  0.004457      0                0\n",
              "2023-01-11     132.5788  0.021112      1                1\n",
              "2023-01-12     132.4994 -0.000599      0                1\n",
              "2023-01-13     133.8402  0.010119      1                2\n",
              "2023-01-17     135.0121  0.008756      0                2\n",
              "2023-01-18     134.2871 -0.005370      0                2\n",
              "2023-01-19     134.3467  0.000444      0                2\n",
              "2023-01-20     136.9289  0.019220      1                3\n",
              "2023-01-23     140.1468  0.023501      1                3\n",
              "2023-01-24     141.5571  0.010063      1                3\n",
              "2023-01-25     140.8917 -0.004701      0                3\n",
              "2023-01-26     142.9774  0.014804      1                4\n",
              "2023-01-27     144.9339  0.013684      1                4\n",
              "2023-01-30     142.0239 -0.020078     -1                4\n",
              "2023-01-31     143.3051  0.009021      0                4"
            ]
          },
          "execution_count": 50,
          "metadata": {},
          "output_type": "execute_result"
        }
      ],
      "source": [
        "df.head(20)"
      ]
    },
    {
      "cell_type": "code",
      "execution_count": null,
      "id": "6bc3a6c2-e947-4441-9af6-c3b0d379780c",
      "metadata": {
        "tags": [],
        "id": "6bc3a6c2-e947-4441-9af6-c3b0d379780c",
        "outputId": "76b99c3c-54bb-4ae6-c80e-ba9f20187fdb"
      },
      "outputs": [
        {
          "data": {
            "text/plain": [
              "40"
            ]
          },
          "execution_count": 51,
          "metadata": {},
          "output_type": "execute_result"
        }
      ],
      "source": [
        "df[\"Portfolio value\"].max()"
      ]
    },
    {
      "cell_type": "markdown",
      "id": "ca7b6eb6-cee7-4291-be66-e476d1542643",
      "metadata": {
        "id": "ca7b6eb6-cee7-4291-be66-e476d1542643"
      },
      "source": [
        "##  Calculating the transition distribution of going from a state to different possible states"
      ]
    },
    {
      "cell_type": "code",
      "execution_count": null,
      "id": "9bfa30f8-7adc-4c86-afb7-804b35006c57",
      "metadata": {
        "tags": [],
        "id": "9bfa30f8-7adc-4c86-afb7-804b35006c57"
      },
      "outputs": [],
      "source": [
        "state_counts = df['State'].value_counts()\n",
        "sc = dict(state_counts)"
      ]
    },
    {
      "cell_type": "code",
      "execution_count": null,
      "id": "837d2215-3c09-4e9e-a800-cc4ae6cabb1d",
      "metadata": {
        "tags": [],
        "id": "837d2215-3c09-4e9e-a800-cc4ae6cabb1d"
      },
      "outputs": [],
      "source": [
        "def TPM(dictionary):\n",
        "    tpm = pd.DataFrame(index=sc.keys(),columns=sc.keys())\n",
        "    for i in sc.keys():\n",
        "        for j in sc.keys():\n",
        "            tpm.loc[i,j] = dictionary[(i,j)]\n",
        "    return tpm"
      ]
    },
    {
      "cell_type": "code",
      "execution_count": null,
      "id": "69dda7be-00b5-4274-acba-1f7e747288aa",
      "metadata": {
        "tags": [],
        "id": "69dda7be-00b5-4274-acba-1f7e747288aa"
      },
      "outputs": [],
      "source": [
        "from collections import defaultdict\n",
        "dict_freq = defaultdict(int)\n",
        "for state,tot in sc.items():\n",
        "    for i in range(0,row-1):\n",
        "        if df.State[i]==state:\n",
        "            dict_freq[(state,df.State[i+1])] += 1/tot\n",
        ""
      ]
    },
    {
      "cell_type": "code",
      "execution_count": null,
      "id": "29a2e857-1b58-4f6d-9d2f-75e626e8eedc",
      "metadata": {
        "tags": [],
        "id": "29a2e857-1b58-4f6d-9d2f-75e626e8eedc",
        "outputId": "5fb6c0e0-dce1-4936-cc8c-f77e519d1f48"
      },
      "outputs": [
        {
          "name": "stdout",
          "output_type": "stream",
          "text": [
            "Transition probability matrix:\n",
            "\n",
            "            0         1        -1\n",
            " 0  0.594937  0.253165   0.14557\n",
            " 1  0.666667  0.210526  0.122807\n",
            "-1  0.742857  0.114286  0.142857\n"
          ]
        }
      ],
      "source": [
        "print(\"Transition probability matrix:\\n\\n\",TPM(dict_freq))"
      ]
    },
    {
      "cell_type": "markdown",
      "id": "66bbaee0-f283-4ca8-87b5-db5ca286a8f3",
      "metadata": {
        "id": "66bbaee0-f283-4ca8-87b5-db5ca286a8f3"
      },
      "source": [
        "## Time Series Plot"
      ]
    },
    {
      "cell_type": "code",
      "execution_count": null,
      "id": "6c472aff-216d-4cb6-ab90-66f1db489a61",
      "metadata": {
        "tags": [],
        "id": "6c472aff-216d-4cb6-ab90-66f1db489a61",
        "outputId": "3c2c1c78-27d9-4e07-fbfe-1e4fa83272b6"
      },
      "outputs": [
        {
          "data": {
            "image/png": "[encoded data removed]",
            "text/plain": [
              "<Figure size 720x432 with 1 Axes>"
            ]
          },
          "metadata": {},
          "output_type": "display_data"
        }
      ],
      "source": [
        "import matplotlib.pyplot as plt\n",
        "plt.figure(figsize=(10, 6))\n",
        "plt.plot(df.index, df['Portfolio value'], marker='o', color='b', linestyle='-')\n",
        "\n",
        "plt.xlabel('Date')\n",
        "plt.ylabel('Portfolio Value')\n",
        "plt.grid(True)\n",
        "\n",
        "\n",
        "plt.tight_layout()\n",
        "plt.show()"
      ]
    },
    {
      "cell_type": "markdown",
      "id": "1f3f4927-e663-4a00-b19d-26f864ef96f2",
      "metadata": {
        "id": "1f3f4927-e663-4a00-b19d-26f864ef96f2"
      },
      "source": [
        "## Optimal Buying indices"
      ]
    },
    {
      "cell_type": "code",
      "execution_count": null,
      "id": "803c54e9-2933-4abc-b832-ef66d06157eb",
      "metadata": {
        "tags": [],
        "id": "803c54e9-2933-4abc-b832-ef66d06157eb",
        "outputId": "b14c150b-091f-4ee4-d0c0-0189146381bf"
      },
      "outputs": [
        {
          "name": "stdout",
          "output_type": "stream",
          "text": [
            "{'2023-01-11': 1, '2023-01-13': 2, '2023-01-20': 3, '2023-01-26': 4, '2023-02-02': 5, '2023-02-13': 6, '2023-02-15': 7, '2023-03-03': 8, '2023-03-16': 9, '2023-03-20': 10, '2023-03-29': 11, '2023-03-31': 12, '2023-04-13': 13, '2023-04-27': 14, '2023-05-05': 15, '2023-05-10': 16, '2023-05-18': 17, '2023-05-26': 18, '2023-06-01': 19, '2023-06-08': 20, '2023-06-12': 21, '2023-06-15': 22, '2023-06-22': 23, '2023-06-27': 24, '2023-06-30': 25, '2023-07-17': 26, '2023-07-28': 27, '2023-08-23': 28, '2023-08-29': 29, '2023-09-18': 30, '2023-10-02': 31, '2023-10-06': 32, '2023-10-30': 33, '2023-11-01': 34, '2023-11-06': 35, '2023-11-10': 36, '2023-11-14': 37, '2023-12-05': 38, '2023-12-07': 39, '2023-12-13': 40}\n"
          ]
        }
      ],
      "source": [
        "print(optimal_indices)"
      ]
    },
    {
      "cell_type": "code",
      "execution_count": null,
      "id": "5ffe33bf-ec08-4992-8fb9-bbbf3057f91c",
      "metadata": {
        "tags": [],
        "id": "5ffe33bf-ec08-4992-8fb9-bbbf3057f91c",
        "outputId": "fd44e0cb-05c6-4ed3-f151-105b310f2d85"
      },
      "outputs": [
        {
          "data": {
            "text/html": [
              "<div>\n",
              "<style scoped>\n",
              "    .dataframe tbody tr th:only-of-type {\n",
              "        vertical-align: middle;\n",
              "    }\n",
              "\n",
              "    .dataframe tbody tr th {\n",
              "        vertical-align: top;\n",
              "    }\n",
              "\n",
              "    .dataframe thead th {\n",
              "        text-align: right;\n",
              "    }\n",
              "</style>\n",
              "<table border=\"1\" class=\"dataframe\">\n",
              "  <thead>\n",
              "    <tr style=\"text-align: right;\">\n",
              "      <th></th>\n",
              "      <th>Portfolio value</th>\n",
              "    </tr>\n",
              "    <tr>\n",
              "      <th>Dates</th>\n",
              "      <th></th>\n",
              "    </tr>\n",
              "  </thead>\n",
              "  <tbody>\n",
              "    <tr>\n",
              "      <th>2023-01-11</th>\n",
              "      <td>1</td>\n",
              "    </tr>\n",
              "    <tr>\n",
              "      <th>2023-01-13</th>\n",
              "      <td>2</td>\n",
              "    </tr>\n",
              "    <tr>\n",
              "      <th>2023-01-20</th>\n",
              "      <td>3</td>\n",
              "    </tr>\n",
              "    <tr>\n",
              "      <th>2023-01-26</th>\n",
              "      <td>4</td>\n",
              "    </tr>\n",
              "    <tr>\n",
              "      <th>2023-02-02</th>\n",
              "      <td>5</td>\n",
              "    </tr>\n",
              "    <tr>\n",
              "      <th>2023-02-13</th>\n",
              "      <td>6</td>\n",
              "    </tr>\n",
              "    <tr>\n",
              "      <th>2023-02-15</th>\n",
              "      <td>7</td>\n",
              "    </tr>\n",
              "    <tr>\n",
              "      <th>2023-03-03</th>\n",
              "      <td>8</td>\n",
              "    </tr>\n",
              "    <tr>\n",
              "      <th>2023-03-16</th>\n",
              "      <td>9</td>\n",
              "    </tr>\n",
              "    <tr>\n",
              "      <th>2023-03-20</th>\n",
              "      <td>10</td>\n",
              "    </tr>\n",
              "    <tr>\n",
              "      <th>2023-03-29</th>\n",
              "      <td>11</td>\n",
              "    </tr>\n",
              "    <tr>\n",
              "      <th>2023-03-31</th>\n",
              "      <td>12</td>\n",
              "    </tr>\n",
              "    <tr>\n",
              "      <th>2023-04-13</th>\n",
              "      <td>13</td>\n",
              "    </tr>\n",
              "    <tr>\n",
              "      <th>2023-04-27</th>\n",
              "      <td>14</td>\n",
              "    </tr>\n",
              "    <tr>\n",
              "      <th>2023-05-05</th>\n",
              "      <td>15</td>\n",
              "    </tr>\n",
              "    <tr>\n",
              "      <th>2023-05-10</th>\n",
              "      <td>16</td>\n",
              "    </tr>\n",
              "    <tr>\n",
              "      <th>2023-05-18</th>\n",
              "      <td>17</td>\n",
              "    </tr>\n",
              "    <tr>\n",
              "      <th>2023-05-26</th>\n",
              "      <td>18</td>\n",
              "    </tr>\n",
              "    <tr>\n",
              "      <th>2023-06-01</th>\n",
              "      <td>19</td>\n",
              "    </tr>\n",
              "    <tr>\n",
              "      <th>2023-06-08</th>\n",
              "      <td>20</td>\n",
              "    </tr>\n",
              "    <tr>\n",
              "      <th>2023-06-12</th>\n",
              "      <td>21</td>\n",
              "    </tr>\n",
              "    <tr>\n",
              "      <th>2023-06-15</th>\n",
              "      <td>22</td>\n",
              "    </tr>\n",
              "    <tr>\n",
              "      <th>2023-06-22</th>\n",
              "      <td>23</td>\n",
              "    </tr>\n",
              "    <tr>\n",
              "      <th>2023-06-27</th>\n",
              "      <td>24</td>\n",
              "    </tr>\n",
              "    <tr>\n",
              "      <th>2023-06-30</th>\n",
              "      <td>25</td>\n",
              "    </tr>\n",
              "    <tr>\n",
              "      <th>2023-07-17</th>\n",
              "      <td>26</td>\n",
              "    </tr>\n",
              "    <tr>\n",
              "      <th>2023-07-28</th>\n",
              "      <td>27</td>\n",
              "    </tr>\n",
              "    <tr>\n",
              "      <th>2023-08-23</th>\n",
              "      <td>28</td>\n",
              "    </tr>\n",
              "    <tr>\n",
              "      <th>2023-08-29</th>\n",
              "      <td>29</td>\n",
              "    </tr>\n",
              "    <tr>\n",
              "      <th>2023-09-18</th>\n",
              "      <td>30</td>\n",
              "    </tr>\n",
              "    <tr>\n",
              "      <th>2023-10-02</th>\n",
              "      <td>31</td>\n",
              "    </tr>\n",
              "    <tr>\n",
              "      <th>2023-10-06</th>\n",
              "      <td>32</td>\n",
              "    </tr>\n",
              "    <tr>\n",
              "      <th>2023-10-30</th>\n",
              "      <td>33</td>\n",
              "    </tr>\n",
              "    <tr>\n",
              "      <th>2023-11-01</th>\n",
              "      <td>34</td>\n",
              "    </tr>\n",
              "    <tr>\n",
              "      <th>2023-11-06</th>\n",
              "      <td>35</td>\n",
              "    </tr>\n",
              "    <tr>\n",
              "      <th>2023-11-10</th>\n",
              "      <td>36</td>\n",
              "    </tr>\n",
              "    <tr>\n",
              "      <th>2023-11-14</th>\n",
              "      <td>37</td>\n",
              "    </tr>\n",
              "    <tr>\n",
              "      <th>2023-12-05</th>\n",
              "      <td>38</td>\n",
              "    </tr>\n",
              "    <tr>\n",
              "      <th>2023-12-07</th>\n",
              "      <td>39</td>\n",
              "    </tr>\n",
              "    <tr>\n",
              "      <th>2023-12-13</th>\n",
              "      <td>40</td>\n",
              "    </tr>\n",
              "  </tbody>\n",
              "</table>\n",
              "</div>"
            ],
            "text/plain": [
              "            Portfolio value\n",
              "Dates                      \n",
              "2023-01-11                1\n",
              "2023-01-13                2\n",
              "2023-01-20                3\n",
              "2023-01-26                4\n",
              "2023-02-02                5\n",
              "2023-02-13                6\n",
              "2023-02-15                7\n",
              "2023-03-03                8\n",
              "2023-03-16                9\n",
              "2023-03-20               10\n",
              "2023-03-29               11\n",
              "2023-03-31               12\n",
              "2023-04-13               13\n",
              "2023-04-27               14\n",
              "2023-05-05               15\n",
              "2023-05-10               16\n",
              "2023-05-18               17\n",
              "2023-05-26               18\n",
              "2023-06-01               19\n",
              "2023-06-08               20\n",
              "2023-06-12               21\n",
              "2023-06-15               22\n",
              "2023-06-22               23\n",
              "2023-06-27               24\n",
              "2023-06-30               25\n",
              "2023-07-17               26\n",
              "2023-07-28               27\n",
              "2023-08-23               28\n",
              "2023-08-29               29\n",
              "2023-09-18               30\n",
              "2023-10-02               31\n",
              "2023-10-06               32\n",
              "2023-10-30               33\n",
              "2023-11-01               34\n",
              "2023-11-06               35\n",
              "2023-11-10               36\n",
              "2023-11-14               37\n",
              "2023-12-05               38\n",
              "2023-12-07               39\n",
              "2023-12-13               40"
            ]
          },
          "execution_count": 62,
          "metadata": {},
          "output_type": "execute_result"
        }
      ],
      "source": [
        "optimal_dates = pd.DataFrame()\n",
        "optimal_dates[\"Dates\"] = optimal_indices.keys()\n",
        "optimal_dates[\"Portfolio value\"] = optimal_indices.values()\n",
        "optimal_dates.set_index(\"Dates\")"
      ]
    },
    {
      "cell_type": "code",
      "execution_count": null,
      "id": "2ca30847-93fd-40e9-8ae1-ef6c4ca14c79",
      "metadata": {
        "id": "2ca30847-93fd-40e9-8ae1-ef6c4ca14c79"
      },
      "outputs": [],
      "source": []
    }
  ],
  "metadata": {
    "kernelspec": {
      "display_name": "Python 3.9",
      "language": "python",
      "name": "python3"
    },
    "language_info": {
      "codemirror_mode": {
        "name": "ipython",
        "version": 3
      },
      "file_extension": ".py",
      "mimetype": "text/x-python",
      "name": "python",
      "nbconvert_exporter": "python",
      "pygments_lexer": "ipython3",
      "version": "3.9.12"
    },
    "colab": {
      "provenance": []
    }
  },
  "nbformat": 4,
  "nbformat_minor": 5
}